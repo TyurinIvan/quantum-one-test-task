{
  "cells": [
    {
      "cell_type": "markdown",
      "id": "87419e8d-ea29-4df1-96c3-98d09facc966",
      "metadata": {
        "id": "87419e8d-ea29-4df1-96c3-98d09facc966"
      },
      "source": [
        "# Predicting Financial Stress ( Part 1 )\n"
      ]
    },
    {
      "cell_type": "markdown",
      "id": "152cdc38-6b6a-4b6b-a57b-bce314a60703",
      "metadata": {
        "id": "152cdc38-6b6a-4b6b-a57b-bce314a60703"
      },
      "source": [
        "### Description\n",
        "\n",
        "Let’s explore a realistic and socially impactful machine learning task — predicting financial stress levels among gig economy workers using data on digital behavior, income streams, and financial activity. Your objective is to analyze the provided dataset, build a classification model, and submit your predictions in a competition-style format.\n",
        "\n",
        "\n",
        "Financial stress prediction is increasingly important for fintech startups, mental health platforms, and labor unions seeking to identify at-risk individuals. With the growing prevalence of gig work (e.g., ride-sharing, freelance platforms, delivery services), understanding how digital and financial patterns correlate with stress is crucial for designing timely interventions and support systems.\n",
        "\n",
        "\n",
        "The dataset includes various behavioral, occupational, and financial features collected via consent-based app usage and surveys. Your model should classify each worker into one of three financial stress levels: low, moderate, or high.\n",
        "\n",
        "The main goal of the task is to achieve the highest possible accuracy score, but unconventional approaches and creative ideas will also be taken into account."
      ]
    },
    {
      "cell_type": "markdown",
      "id": "37d9f674-7d6a-4b30-bcc0-7f69c2bc80d6",
      "metadata": {
        "id": "37d9f674-7d6a-4b30-bcc0-7f69c2bc80d6"
      },
      "source": [
        "### Evaluation\n",
        "\n",
        "The target variable is a 3-class categorical variable:\n",
        "\n",
        "financial_stress_level ∈ {low, moderate, high}\n",
        "\n",
        "The evaluation metric is **Accuracy**."
      ]
    },
    {
      "cell_type": "markdown",
      "id": "b5adb509-97c1-4db2-a551-874b02530520",
      "metadata": {
        "id": "b5adb509-97c1-4db2-a551-874b02530520"
      },
      "source": [
        "### Files\n",
        "\n",
        "**train.csv**: labeled training data\n",
        "\n",
        "\n",
        "**test.csv**: unlabeled test data\n",
        "\n",
        "\n",
        "**sample_submission.csv**: submission format\n"
      ]
    },
    {
      "cell_type": "markdown",
      "id": "68333ce3-9daf-4dc5-83a1-88e56dbf5d9e",
      "metadata": {
        "id": "68333ce3-9daf-4dc5-83a1-88e56dbf5d9e"
      },
      "source": [
        "### Submission Format\n",
        "\n",
        "Save a CSV file(in current folder) with the following columns:\n",
        "\n",
        "**worker_id**, **financial_stress_level**\n",
        "\n",
        "0, Low\n",
        "\n",
        "1, Moderate\n",
        "\n",
        "2, High\n"
      ]
    },
    {
      "cell_type": "markdown",
      "id": "c867acc7-0936-4398-a0e3-ca1f1b560be9",
      "metadata": {
        "id": "c867acc7-0936-4398-a0e3-ca1f1b560be9"
      },
      "source": [
        "## Dataset Description\n",
        "\n",
        "**worker_id** — unique identifier of each gig economy worker\n",
        "\n",
        "**survey_month** — month when the data was collected\n",
        "\n",
        "**worker_age** — age of the worker in years\n",
        "\n",
        "**job_sector** — type of gig job (e.g., delivery, ride-hailing, freelance)\n",
        "\n",
        "**estimated_annual_income** — self-estimated total income for the year\n",
        "\n",
        "**monthly_gig_income** — actual monthly earnings from gig work\n",
        "\n",
        "**num_savings_accounts** — number of savings or checking accounts owned\n",
        "\n",
        "**num_credit_cards** — total number of active credit cards\n",
        "\n",
        "**avg_credit_interest** — average interest rate across all credit cards\n",
        "\n",
        "**num_active_loans** — total number of ongoing personal or payday loans\n",
        "\n",
        "**avg_loan_delay_days** — average delay in loan repayments, measured in days\n",
        "\n",
        "**missed_payment_events** — number of missed or late payment events\n",
        "\n",
        "**recent_credit_checks** — number of credit inquiries in the past 3 months\n",
        "\n",
        "**current_total_liability** — total amount of outstanding debt\n",
        "\n",
        "**credit_utilization_rate** — ratio of current credit used to credit limit\n",
        "\n",
        "**credit_age_months** — duration (in months) since the first credit account was opened\n",
        "\n",
        "**min_payment_flag** — 1 if only the minimum payment was made, 0 if otherwise\n",
        "\n",
        "**monthly_investments** — total amount invested or saved in the current month\n",
        "\n",
        "**spending_behavior** — category describing current spending habits\n",
        "\n",
        "**end_of_month_balance** — available account balance at month’s end\n",
        "\n",
        "**financial_stress_level** — [Target] financial stress classification: low / moderate / high"
      ]
    },
    {
      "cell_type": "code",
      "source": [
        "%%capture\n",
        "!pip install catboost[gpu] optuna"
      ],
      "metadata": {
        "collapsed": true,
        "id": "hLLfjZ9GPPRW"
      },
      "id": "hLLfjZ9GPPRW",
      "execution_count": 1,
      "outputs": []
    },
    {
      "cell_type": "code",
      "source": [
        "import pandas as pd\n",
        "import numpy as np\n",
        "from catboost import CatBoostClassifier, Pool\n",
        "from sklearn.model_selection import GroupKFold\n",
        "from sklearn.preprocessing import LabelEncoder\n",
        "import optuna\n",
        "\n",
        "\n",
        "def to_months(x):\n",
        "    if isinstance(x, str):\n",
        "        y, rest = x.split('y.')\n",
        "        m = rest.replace('m.', '').strip()\n",
        "        return int(y)*12 + (int(m) if m else 0)\n",
        "    return np.nan\n",
        "\n",
        "\n",
        "train = pd.read_csv(\"train.csv\")\n",
        "test = pd.read_csv(\"test.csv\")\n",
        "\n",
        "\n",
        "train['credit_age_months'] = train['credit_age_months'].apply(to_months)\n",
        "test['credit_age_months'] = test['credit_age_months'].apply(to_months)\n",
        "\n",
        "\n",
        "target_mapping = {'Low':0, 'Moderate':1, 'High':2}\n",
        "train['financial_stress_level_encoded'] = train['financial_stress_level'].map(target_mapping)\n",
        "\n",
        "\n",
        "cat_features = ['job_sector', 'min_payment_flag', 'spending_behavior', 'survey_month']\n",
        "\n",
        "\n",
        "for col in cat_features:\n",
        "    train[col] = train[col].astype(str)\n",
        "    test[col] = test[col].astype(str)\n",
        "\n",
        "X = train.drop(columns=['worker_id', 'financial_stress_level', 'financial_stress_level_encoded'])\n",
        "y = train['financial_stress_level_encoded']\n",
        "groups = train['worker_id']\n",
        "\n",
        "def objective(trial):\n",
        "    params = {\n",
        "        'iterations': 2000,\n",
        "        'learning_rate': trial.suggest_float('learning_rate', 1e-3, 0.1, log=True),\n",
        "        'depth': trial.suggest_int('depth', 3, 10),\n",
        "        'l2_leaf_reg': trial.suggest_float('l2_leaf_reg', 1e-3, 10.0, log=True),\n",
        "        'bagging_temperature': trial.suggest_float('bagging_temperature', 0.0, 1.0),\n",
        "        'random_strength': trial.suggest_float('random_strength', 0.0, 10.0),\n",
        "        'border_count': trial.suggest_int('border_count', 32, 255),\n",
        "        'task_type': 'GPU',\n",
        "        'devices': '0',\n",
        "        'loss_function': 'MultiClass',\n",
        "        'eval_metric': 'Accuracy',\n",
        "        'random_seed': 42,\n",
        "        'early_stopping_rounds': 100,\n",
        "        'verbose': 0\n",
        "    }\n",
        "\n",
        "\n",
        "    gkf = GroupKFold(n_splits=5)\n",
        "    accuracies = []\n",
        "\n",
        "    for train_idx, valid_idx in gkf.split(X, y, groups):\n",
        "        X_train, X_valid = X.iloc[train_idx], X.iloc[valid_idx]\n",
        "        y_train, y_valid = y.iloc[train_idx], y.iloc[valid_idx]\n",
        "\n",
        "        train_pool = Pool(data=X_train, label=y_train, cat_features=cat_features)\n",
        "        valid_pool = Pool(data=X_valid, label=y_valid, cat_features=cat_features)\n",
        "\n",
        "        model = CatBoostClassifier(**params)\n",
        "        model.fit(train_pool, eval_set=valid_pool, use_best_model=True)\n",
        "\n",
        "        preds = model.predict(valid_pool).flatten().astype(int)\n",
        "        accuracy = (preds == y_valid).mean()\n",
        "        accuracies.append(accuracy)\n",
        "\n",
        "    return np.mean(accuracies)\n",
        "\n",
        "\n",
        "study = optuna.create_study(direction='maximize')\n",
        "study.optimize(objective, n_trials=30, timeout=3600)\n",
        "\n",
        "print(\"Best trial:\")\n",
        "print(study.best_trial.params)\n",
        "\n",
        "\n",
        "best_params = study.best_trial.params\n",
        "best_params.update({\n",
        "    'iterations': 2000,\n",
        "    'loss_function': 'MultiClass',\n",
        "    'eval_metric': 'Accuracy',\n",
        "    'random_seed': 42,\n",
        "    'early_stopping_rounds': 100,\n",
        "    'task_type': 'GPU',\n",
        "    'devices': '0',\n",
        "    'verbose': 100,\n",
        "})\n",
        "\n",
        "full_train_pool = Pool(data=X, label=y, cat_features=cat_features)\n",
        "test_pool = Pool(data=test.drop(columns=['worker_id']), cat_features=cat_features)\n",
        "\n",
        "final_model = CatBoostClassifier(**best_params)\n",
        "final_model.fit(full_train_pool, use_best_model=True)\n",
        "\n",
        "preds_test = final_model.predict(test_pool).flatten().astype(int)\n",
        "\n",
        "inv_target_mapping = {v:k for k,v in target_mapping.items()}\n",
        "preds_labels = [inv_target_mapping[p] for p in preds_test]\n",
        "\n",
        "submission = pd.DataFrame({\n",
        "    'worker_id': test['worker_id'],\n",
        "    'financial_stress_level': preds_labels\n",
        "})\n",
        "\n",
        "submission.to_csv('submission.csv', index=False)\n"
      ],
      "metadata": {
        "colab": {
          "base_uri": "https://localhost:8080/"
        },
        "id": "SxdkmP9QQdpA",
        "outputId": "f94a2b66-e233-442c-fe86-94846a41d9ab"
      },
      "id": "SxdkmP9QQdpA",
      "execution_count": 2,
      "outputs": [
        {
          "output_type": "stream",
          "name": "stderr",
          "text": [
            "[I 2025-09-09 16:39:45,838] A new study created in memory with name: no-name-86fa5cf3-2914-4fdd-9af3-7eddb52eb917\n",
            "[I 2025-09-09 16:40:17,771] Trial 0 finished with value: 0.6648392857142856 and parameters: {'learning_rate': 0.001348008213435413, 'depth': 8, 'l2_leaf_reg': 4.1910810043764855, 'bagging_temperature': 0.4836204982386705, 'random_strength': 3.082636461648595, 'border_count': 76}. Best is trial 0 with value: 0.6648392857142856.\n",
            "[I 2025-09-09 16:41:44,650] Trial 1 finished with value: 0.6741607142857142 and parameters: {'learning_rate': 0.0017052914298124101, 'depth': 10, 'l2_leaf_reg': 0.4317630576243327, 'bagging_temperature': 0.26589670873336013, 'random_strength': 3.629733529905926, 'border_count': 252}. Best is trial 1 with value: 0.6741607142857142.\n",
            "[I 2025-09-09 16:42:00,608] Trial 2 finished with value: 0.6793214285714285 and parameters: {'learning_rate': 0.07219243812661935, 'depth': 8, 'l2_leaf_reg': 0.0049039821306937756, 'bagging_temperature': 0.9661213557490759, 'random_strength': 5.989174841754256, 'border_count': 247}. Best is trial 2 with value: 0.6793214285714285.\n",
            "[I 2025-09-09 16:42:14,566] Trial 3 finished with value: 0.654 and parameters: {'learning_rate': 0.001212694995108046, 'depth': 7, 'l2_leaf_reg': 0.061780560492841745, 'bagging_temperature': 0.7139272888442774, 'random_strength': 9.437833907333019, 'border_count': 215}. Best is trial 2 with value: 0.6793214285714285.\n",
            "[I 2025-09-09 16:43:45,577] Trial 4 finished with value: 0.6786428571428572 and parameters: {'learning_rate': 0.003167935521349826, 'depth': 10, 'l2_leaf_reg': 0.10876476590640632, 'bagging_temperature': 0.8928495472268259, 'random_strength': 8.986784761710052, 'border_count': 242}. Best is trial 2 with value: 0.6793214285714285.\n",
            "[I 2025-09-09 16:43:51,454] Trial 5 finished with value: 0.644357142857143 and parameters: {'learning_rate': 0.0022363182494640967, 'depth': 3, 'l2_leaf_reg': 9.736149655732403, 'bagging_temperature': 0.5676325017879652, 'random_strength': 4.945042798177491, 'border_count': 50}. Best is trial 2 with value: 0.6793214285714285.\n",
            "[I 2025-09-09 16:43:59,659] Trial 6 finished with value: 0.6447499999999999 and parameters: {'learning_rate': 0.002726726158509343, 'depth': 4, 'l2_leaf_reg': 0.003640824789806122, 'bagging_temperature': 0.9938719959743317, 'random_strength': 1.78915391790601, 'border_count': 190}. Best is trial 2 with value: 0.6793214285714285.\n",
            "[I 2025-09-09 16:44:28,293] Trial 7 finished with value: 0.6703214285714286 and parameters: {'learning_rate': 0.004612668834040526, 'depth': 8, 'l2_leaf_reg': 0.014705802119240316, 'bagging_temperature': 0.9723693975161883, 'random_strength': 6.399353959959959, 'border_count': 221}. Best is trial 2 with value: 0.6793214285714285.\n",
            "[I 2025-09-09 16:44:37,679] Trial 8 finished with value: 0.6448214285714287 and parameters: {'learning_rate': 0.0035699610204324808, 'depth': 4, 'l2_leaf_reg': 0.0010362249301021462, 'bagging_temperature': 0.19427955956976994, 'random_strength': 7.112802183081506, 'border_count': 178}. Best is trial 2 with value: 0.6793214285714285.\n",
            "[I 2025-09-09 16:44:57,912] Trial 9 finished with value: 0.678 and parameters: {'learning_rate': 0.033897037471027576, 'depth': 7, 'l2_leaf_reg': 0.05700616803899205, 'bagging_temperature': 0.12772995811795473, 'random_strength': 5.288814867660739, 'border_count': 245}. Best is trial 2 with value: 0.6793214285714285.\n",
            "[I 2025-09-09 16:45:09,127] Trial 10 finished with value: 0.6780714285714285 and parameters: {'learning_rate': 0.09849238066587385, 'depth': 5, 'l2_leaf_reg': 0.0064220180514657195, 'bagging_temperature': 0.7343456359871863, 'random_strength': 0.17676560616078607, 'border_count': 118}. Best is trial 2 with value: 0.6793214285714285.\n",
            "[I 2025-09-09 16:46:08,210] Trial 11 finished with value: 0.6784285714285714 and parameters: {'learning_rate': 0.00944358980620947, 'depth': 10, 'l2_leaf_reg': 0.38160977817833686, 'bagging_temperature': 0.8427828352801485, 'random_strength': 9.759054856436883, 'border_count': 157}. Best is trial 2 with value: 0.6793214285714285.\n",
            "[I 2025-09-09 16:46:39,344] Trial 12 finished with value: 0.6799821428571429 and parameters: {'learning_rate': 0.020688283792517963, 'depth': 9, 'l2_leaf_reg': 0.26987351914173, 'bagging_temperature': 0.8348861692911989, 'random_strength': 7.883875255856627, 'border_count': 121}. Best is trial 12 with value: 0.6799821428571429.\n",
            "[I 2025-09-09 16:46:58,439] Trial 13 finished with value: 0.6798928571428572 and parameters: {'learning_rate': 0.04145356276745669, 'depth': 8, 'l2_leaf_reg': 1.102710784402002, 'bagging_temperature': 0.7273422308965845, 'random_strength': 7.433409198366968, 'border_count': 114}. Best is trial 12 with value: 0.6799821428571429.\n",
            "[I 2025-09-09 16:47:26,849] Trial 14 finished with value: 0.6798928571428571 and parameters: {'learning_rate': 0.025841113089972622, 'depth': 9, 'l2_leaf_reg': 0.9457612453335761, 'bagging_temperature': 0.586077121719694, 'random_strength': 7.876216530545038, 'border_count': 115}. Best is trial 12 with value: 0.6799821428571429.\n",
            "[I 2025-09-09 16:47:42,877] Trial 15 finished with value: 0.6765 and parameters: {'learning_rate': 0.022279971693222145, 'depth': 6, 'l2_leaf_reg': 1.607403882809212, 'bagging_temperature': 0.4111557021303265, 'random_strength': 7.999950108335266, 'border_count': 111}. Best is trial 12 with value: 0.6799821428571429.\n",
            "[I 2025-09-09 16:48:02,795] Trial 16 finished with value: 0.6804107142857144 and parameters: {'learning_rate': 0.04998787168088177, 'depth': 9, 'l2_leaf_reg': 0.19021174362968868, 'bagging_temperature': 0.7309337786714021, 'random_strength': 7.819167138322354, 'border_count': 74}. Best is trial 16 with value: 0.6804107142857144.\n",
            "[I 2025-09-09 16:48:34,366] Trial 17 finished with value: 0.6783392857142857 and parameters: {'learning_rate': 0.01360195754108678, 'depth': 9, 'l2_leaf_reg': 0.16244853092556558, 'bagging_temperature': 0.7937807726239159, 'random_strength': 8.683491538976103, 'border_count': 33}. Best is trial 16 with value: 0.6804107142857144.\n",
            "[I 2025-09-09 16:49:13,295] Trial 18 finished with value: 0.680125 and parameters: {'learning_rate': 0.012992162159798412, 'depth': 9, 'l2_leaf_reg': 0.025196114226099707, 'bagging_temperature': 0.628999361896935, 'random_strength': 4.881086407838751, 'border_count': 75}. Best is trial 16 with value: 0.6804107142857144.\n",
            "[I 2025-09-09 16:49:44,260] Trial 19 finished with value: 0.6724642857142857 and parameters: {'learning_rate': 0.006624266676395148, 'depth': 6, 'l2_leaf_reg': 0.02555555977717891, 'bagging_temperature': 0.37038348876461896, 'random_strength': 4.126368644286779, 'border_count': 78}. Best is trial 16 with value: 0.6804107142857144.\n",
            "[I 2025-09-09 16:50:11,181] Trial 20 finished with value: 0.6790357142857143 and parameters: {'learning_rate': 0.05663482347135607, 'depth': 9, 'l2_leaf_reg': 0.02451239671591655, 'bagging_temperature': 0.6329367268760019, 'random_strength': 2.1587220724402707, 'border_count': 81}. Best is trial 16 with value: 0.6804107142857144.\n",
            "[I 2025-09-09 16:50:43,461] Trial 21 finished with value: 0.6778928571428571 and parameters: {'learning_rate': 0.016171432038603883, 'depth': 9, 'l2_leaf_reg': 0.3170118901435692, 'bagging_temperature': 0.6481049083081709, 'random_strength': 6.170406713651978, 'border_count': 138}. Best is trial 16 with value: 0.6804107142857144.\n",
            "[I 2025-09-09 16:51:50,207] Trial 22 finished with value: 0.6797500000000001 and parameters: {'learning_rate': 0.011235253561723356, 'depth': 10, 'l2_leaf_reg': 0.191831856175097, 'bagging_temperature': 0.8612014171375952, 'random_strength': 4.571216716686967, 'border_count': 92}. Best is trial 16 with value: 0.6804107142857144.\n",
            "[I 2025-09-09 16:52:23,705] Trial 23 finished with value: 0.6804821428571428 and parameters: {'learning_rate': 0.02478515450323388, 'depth': 9, 'l2_leaf_reg': 0.051381494594595026, 'bagging_temperature': 0.5290528442715288, 'random_strength': 6.942581054988685, 'border_count': 57}. Best is trial 23 with value: 0.6804821428571428.\n",
            "[I 2025-09-09 16:52:47,643] Trial 24 finished with value: 0.6797678571428571 and parameters: {'learning_rate': 0.042068741135702116, 'depth': 7, 'l2_leaf_reg': 0.057817599490010335, 'bagging_temperature': 0.45864139705213336, 'random_strength': 6.80853888835125, 'border_count': 47}. Best is trial 23 with value: 0.6804821428571428.\n",
            "[I 2025-09-09 16:53:34,548] Trial 25 finished with value: 0.6791785714285715 and parameters: {'learning_rate': 0.007866353946521413, 'depth': 8, 'l2_leaf_reg': 0.013318522810396612, 'bagging_temperature': 0.5353861212481831, 'random_strength': 5.610266748145927, 'border_count': 59}. Best is trial 23 with value: 0.6804821428571428.\n",
            "[I 2025-09-09 16:53:55,810] Trial 26 finished with value: 0.6801071428571428 and parameters: {'learning_rate': 0.030124383885159995, 'depth': 9, 'l2_leaf_reg': 0.04751751483186143, 'bagging_temperature': 0.6649867963969581, 'random_strength': 8.506238631512531, 'border_count': 32}. Best is trial 23 with value: 0.6804821428571428.\n",
            "[I 2025-09-09 16:54:37,015] Trial 27 finished with value: 0.6791785714285714 and parameters: {'learning_rate': 0.01683379291669981, 'depth': 10, 'l2_leaf_reg': 0.030436330992689702, 'bagging_temperature': 0.32379458863374566, 'random_strength': 6.756409067423574, 'border_count': 95}. Best is trial 23 with value: 0.6804821428571428.\n",
            "[I 2025-09-09 16:54:52,778] Trial 28 finished with value: 0.6795 and parameters: {'learning_rate': 0.054995825837850204, 'depth': 7, 'l2_leaf_reg': 0.11350982714896557, 'bagging_temperature': 0.4925981432035869, 'random_strength': 3.06653422479532, 'border_count': 62}. Best is trial 23 with value: 0.6804821428571428.\n",
            "[I 2025-09-09 16:55:19,675] Trial 29 finished with value: 0.6724285714285714 and parameters: {'learning_rate': 0.004974585178561015, 'depth': 8, 'l2_leaf_reg': 0.012028832143600343, 'bagging_temperature': 0.7606344278603467, 'random_strength': 5.670928955584346, 'border_count': 67}. Best is trial 23 with value: 0.6804821428571428.\n"
          ]
        },
        {
          "output_type": "stream",
          "name": "stdout",
          "text": [
            "Best trial:\n",
            "{'learning_rate': 0.02478515450323388, 'depth': 9, 'l2_leaf_reg': 0.051381494594595026, 'bagging_temperature': 0.5290528442715288, 'random_strength': 6.942581054988685, 'border_count': 57}\n"
          ]
        },
        {
          "output_type": "stream",
          "name": "stderr",
          "text": [
            "You should provide test set for use best model. use_best_model parameter has been switched to false value.\n"
          ]
        },
        {
          "output_type": "stream",
          "name": "stdout",
          "text": [
            "0:\tlearn: 0.6661786\ttotal: 22ms\tremaining: 43.9s\n",
            "100:\tlearn: 0.7006607\ttotal: 2.8s\tremaining: 52.7s\n",
            "200:\tlearn: 0.7164286\ttotal: 5.33s\tremaining: 47.7s\n",
            "300:\tlearn: 0.7317321\ttotal: 6.43s\tremaining: 36.3s\n",
            "400:\tlearn: 0.7447500\ttotal: 7.5s\tremaining: 29.9s\n",
            "500:\tlearn: 0.7662500\ttotal: 9.34s\tremaining: 27.9s\n",
            "600:\tlearn: 0.7861071\ttotal: 11.7s\tremaining: 27.3s\n",
            "700:\tlearn: 0.8026429\ttotal: 14.1s\tremaining: 26.1s\n",
            "800:\tlearn: 0.8178929\ttotal: 18.2s\tremaining: 27.3s\n",
            "900:\tlearn: 0.8300000\ttotal: 20.7s\tremaining: 25.2s\n",
            "1000:\tlearn: 0.8415714\ttotal: 23.1s\tremaining: 23s\n",
            "1100:\tlearn: 0.8524643\ttotal: 25.5s\tremaining: 20.8s\n",
            "1200:\tlearn: 0.8611071\ttotal: 29.5s\tremaining: 19.6s\n",
            "1300:\tlearn: 0.8702857\ttotal: 31.9s\tremaining: 17.1s\n",
            "1400:\tlearn: 0.8786429\ttotal: 34.3s\tremaining: 14.7s\n",
            "1500:\tlearn: 0.8869107\ttotal: 36.7s\tremaining: 12.2s\n",
            "1600:\tlearn: 0.8945179\ttotal: 39.6s\tremaining: 9.86s\n",
            "1700:\tlearn: 0.9013393\ttotal: 43.1s\tremaining: 7.58s\n",
            "1800:\tlearn: 0.9080000\ttotal: 45.5s\tremaining: 5.03s\n",
            "1900:\tlearn: 0.9140357\ttotal: 47.9s\tremaining: 2.5s\n",
            "1999:\tlearn: 0.9211250\ttotal: 50.3s\tremaining: 0us\n"
          ]
        }
      ]
    },
    {
      "cell_type": "markdown",
      "id": "044e96f2-5241-4818-8c27-b9646e9b8eb4",
      "metadata": {
        "id": "044e96f2-5241-4818-8c27-b9646e9b8eb4"
      },
      "source": [
        "# Probability Theory Problems ( Part 2 )"
      ]
    },
    {
      "cell_type": "markdown",
      "id": "02047cd8-558c-4cc2-9a25-2de0cf93ae40",
      "metadata": {
        "id": "02047cd8-558c-4cc2-9a25-2de0cf93ae40"
      },
      "source": [
        "## Task 1"
      ]
    },
    {
      "cell_type": "markdown",
      "id": "03282423-9329-45db-9ac8-ba3e1eb5d558",
      "metadata": {
        "id": "03282423-9329-45db-9ac8-ba3e1eb5d558"
      },
      "source": [
        "A standard deck of **52** cards is well shuffled. Find the probability that all **4 aces are positioned next to each other.**\n",
        "\n",
        "Provide solution below and the answer accurate to 10^-5."
      ]
    },
    {
      "cell_type": "code",
      "source": [
        "1/5525"
      ],
      "metadata": {
        "colab": {
          "base_uri": "https://localhost:8080/"
        },
        "id": "-ICL5lIoLsjK",
        "outputId": "8f898357-838f-4861-92e0-811aace0a481"
      },
      "id": "-ICL5lIoLsjK",
      "execution_count": 3,
      "outputs": [
        {
          "output_type": "execute_result",
          "data": {
            "text/plain": [
              "0.00018099547511312217"
            ]
          },
          "metadata": {},
          "execution_count": 3
        }
      ]
    },
    {
      "cell_type": "markdown",
      "id": "06d59f79-c4eb-44fc-bc6e-3bdd7e944f8a",
      "metadata": {
        "id": "06d59f79-c4eb-44fc-bc6e-3bdd7e944f8a"
      },
      "source": []
    },
    {
      "cell_type": "markdown",
      "id": "0e56827c-cc58-4cb4-8a16-2229382eb177",
      "metadata": {
        "id": "0e56827c-cc58-4cb4-8a16-2229382eb177"
      },
      "source": [
        "## Task 2"
      ]
    },
    {
      "cell_type": "markdown",
      "id": "9ef0a67a-bbf3-453a-aeca-fde7c8a551fb",
      "metadata": {
        "id": "9ef0a67a-bbf3-453a-aeca-fde7c8a551fb"
      },
      "source": [
        "From a collection of letter tiles spelling the word **STATISTICS (10 letters in total)**, 4 tiles are randomly drawn without replacement.\n",
        "\n",
        "What is the probability that the selected letters can be rearranged to form the word **CAST**?\n",
        "\n",
        "Provide solution below and the answer accurate to 10^-5."
      ]
    },
    {
      "cell_type": "code",
      "source": [
        "3/70"
      ],
      "metadata": {
        "colab": {
          "base_uri": "https://localhost:8080/"
        },
        "id": "E902m_O1LIZV",
        "outputId": "44782aaa-8c53-4836-c6a7-65480771652d"
      },
      "id": "E902m_O1LIZV",
      "execution_count": 4,
      "outputs": [
        {
          "output_type": "execute_result",
          "data": {
            "text/plain": [
              "0.04285714285714286"
            ]
          },
          "metadata": {},
          "execution_count": 4
        }
      ]
    },
    {
      "cell_type": "markdown",
      "id": "7a565cb1-d2c4-49d7-9d15-fbd19aa3aea9",
      "metadata": {
        "id": "7a565cb1-d2c4-49d7-9d15-fbd19aa3aea9"
      },
      "source": []
    }
  ],
  "metadata": {
    "kernelspec": {
      "display_name": "Python (Homebrew)",
      "language": "python",
      "name": "homebrew-python"
    },
    "language_info": {
      "codemirror_mode": {
        "name": "ipython",
        "version": 3
      },
      "file_extension": ".py",
      "mimetype": "text/x-python",
      "name": "python",
      "nbconvert_exporter": "python",
      "pygments_lexer": "ipython3",
      "version": "3.13.5"
    },
    "colab": {
      "provenance": [],
      "gpuType": "T4"
    },
    "accelerator": "GPU"
  },
  "nbformat": 4,
  "nbformat_minor": 5
}